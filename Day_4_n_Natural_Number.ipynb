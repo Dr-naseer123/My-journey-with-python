{
  "cells": [
    {
      "cell_type": "markdown",
      "metadata": {
        "id": "9pO5AwdlFVGm"
      },
      "source": [
        "Code on wrting the first n natural numbers by taking input from the user"
      ]
    },
    {
      "cell_type": "code",
      "execution_count": 3,
      "metadata": {
        "colab": {
          "base_uri": "https://localhost:8080/"
        },
        "id": "trDSut0HBJVP",
        "outputId": "5a7c4c2e-de65-4a91-ed10-0c258c7e20f3"
      },
      "outputs": [
        {
          "output_type": "stream",
          "name": "stdout",
          "text": [
            "Enter a natural number 15\n",
            "1 2 3 4 5 6 7 8 9 10 11 12 13 14 15 "
          ]
        }
      ],
      "source": [
        "m = input('Enter a natural number ')\n",
        "try:\n",
        "  n = int(m)\n",
        "  if n<=0:\n",
        "    print('Enter a valid natural number')\n",
        "    exit()\n",
        "  else:\n",
        "    for i in range(1,n+1):\n",
        "      print(i, end =' ')\n",
        "except:\n",
        "  print('Enter a valid natural number')\n"
      ]
    },
    {
      "cell_type": "code",
      "execution_count": null,
      "metadata": {
        "id": "kM06gMYvGZ-B"
      },
      "outputs": [],
      "source": [
        "2"
      ]
    }
  ],
  "metadata": {
    "colab": {
      "provenance": []
    },
    "kernelspec": {
      "display_name": "Python 3",
      "name": "python3"
    },
    "language_info": {
      "name": "python"
    }
  },
  "nbformat": 4,
  "nbformat_minor": 0
}