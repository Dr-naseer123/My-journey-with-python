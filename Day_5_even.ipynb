{
  "nbformat": 4,
  "nbformat_minor": 0,
  "metadata": {
    "colab": {
      "provenance": []
    },
    "kernelspec": {
      "name": "python3",
      "display_name": "Python 3"
    },
    "language_info": {
      "name": "python"
    }
  },
  "cells": [
    {
      "cell_type": "markdown",
      "source": [
        "Listing the first n even natural number"
      ],
      "metadata": {
        "id": "1xKVedCGzT-4"
      }
    },
    {
      "cell_type": "code",
      "execution_count": 6,
      "metadata": {
        "colab": {
          "base_uri": "https://localhost:8080/"
        },
        "id": "qsyaTaZ6wEDG",
        "outputId": "090ce910-cbf9-4ad7-f87c-b55cd44522fb"
      },
      "outputs": [
        {
          "output_type": "stream",
          "name": "stdout",
          "text": [
            "Enter a natural number 25\n",
            "The first 25 natural number are \n",
            "2\n",
            "4\n",
            "6\n",
            "8\n",
            "10\n",
            "12\n",
            "14\n",
            "16\n",
            "18\n",
            "20\n",
            "22\n",
            "24\n"
          ]
        }
      ],
      "source": [
        "m = input('Enter a natural number ')  # input from the user\n",
        "try:  # encountering the exception case\n",
        "  n = int(m)  # converting string to integer\n",
        "  if n>0:  # checking whether the input is natural number\n",
        "    print('The first even', n, 'natural numbers are ')\n",
        "    for i in range(1,n+1):\n",
        "      if i%2==0:  # checking the even number condition\n",
        "        print(i)  # printing the even numbers\n",
        "\n",
        "  else:\n",
        "    print('Enter a natural number')\n",
        "except:\n",
        "  print('Enter a natural number')\n",
        "\n"
      ]
    },
    {
      "cell_type": "code",
      "source": [],
      "metadata": {
        "id": "Q0enkDJJ0aIU"
      },
      "execution_count": null,
      "outputs": []
    }
  ]
}
