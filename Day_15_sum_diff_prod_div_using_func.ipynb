{
  "nbformat": 4,
  "nbformat_minor": 0,
  "metadata": {
    "colab": {
      "provenance": []
    },
    "kernelspec": {
      "name": "python3",
      "display_name": "Python 3"
    },
    "language_info": {
      "name": "python"
    }
  },
  "cells": [
    {
      "cell_type": "markdown",
      "source": [
        "Code to find the sum, difference, product and division using function"
      ],
      "metadata": {
        "id": "IYh8SaHVndpj"
      }
    },
    {
      "cell_type": "code",
      "execution_count": 4,
      "metadata": {
        "colab": {
          "base_uri": "https://localhost:8080/"
        },
        "id": "mKfSV5hkmwve",
        "outputId": "c796b9c3-d4b0-4201-998b-12efe07f5256"
      },
      "outputs": [
        {
          "output_type": "stream",
          "name": "stdout",
          "text": [
            "Enter the first number5\n",
            "Enter the second number4\n",
            "The addition, subtraction, product and division of  5.0 and 4.0 are (9.0, 1.0, 20.0) and 1.25\n"
          ]
        }
      ],
      "source": [
        "n = float(input('Enter the first number'))  # taking the input and converting to float\n",
        "m = float(input('Enter the second number'))\n",
        "l = []  # defining empty list\n",
        "def operations(a,b): # defining a function\n",
        "  c= a+b # Addition\n",
        "  d = a-b # Subtraction\n",
        "  e = a*b  # product\n",
        "  f = a/b # division\n",
        "  return c,d,e,f  # returning the values\n",
        "\n",
        "l = operations(n,m)  # calling the function and storing the values in list l\n",
        "\n",
        "print('The addition, subtraction, product and division of ', n , 'and', m, 'are', l[0:3], 'and', l[3])   # diplaying the results\n",
        "\n"
      ]
    },
    {
      "cell_type": "code",
      "source": [],
      "metadata": {
        "id": "tmxHJ-cUowj9"
      },
      "execution_count": null,
      "outputs": []
    }
  ]
}