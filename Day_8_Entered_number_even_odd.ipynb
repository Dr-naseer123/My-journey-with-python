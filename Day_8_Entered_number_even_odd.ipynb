{
  "nbformat": 4,
  "nbformat_minor": 0,
  "metadata": {
    "colab": {
      "provenance": []
    },
    "kernelspec": {
      "name": "python3",
      "display_name": "Python 3"
    },
    "language_info": {
      "name": "python"
    }
  },
  "cells": [
    {
      "cell_type": "markdown",
      "source": [
        "# Code to check given number is even or odd"
      ],
      "metadata": {
        "id": "FhWIEaQ6pfj1"
      }
    },
    {
      "cell_type": "code",
      "execution_count": 15,
      "metadata": {
        "colab": {
          "base_uri": "https://localhost:8080/"
        },
        "id": "zxEFHMoym59K",
        "outputId": "f905d37d-aaeb-4102-d450-4effe1c8df21"
      },
      "outputs": [
        {
          "output_type": "stream",
          "name": "stdout",
          "text": [
            "Enter a natural number: -6\n",
            "Enter the natural number in digits \n"
          ]
        }
      ],
      "source": [
        "\n",
        "\n",
        "n = input('Enter a natural number: ')\n",
        "try:\n",
        "  m = int(n)\n",
        "  if m>0:\n",
        "   if m%2 == 0:\n",
        "    print(' The entered number',  n ,' is even ')\n",
        "   else:\n",
        "    print(' The entered number', n ,  'is odd ')\n",
        "  else:\n",
        "    print('Enter the natural number in digits ')\n",
        "except:\n",
        "  print('Enter the natural number in digits ')"
      ]
    },
    {
      "cell_type": "code",
      "source": [],
      "metadata": {
        "id": "vibHXXv4oK75"
      },
      "execution_count": 8,
      "outputs": []
    }
  ]
}