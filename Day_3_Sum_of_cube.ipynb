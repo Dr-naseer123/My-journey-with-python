{
  "nbformat": 4,
  "nbformat_minor": 0,
  "metadata": {
    "colab": {
      "provenance": []
    },
    "kernelspec": {
      "name": "python3",
      "display_name": "Python 3"
    },
    "language_info": {
      "name": "python"
    }
  },
  "cells": [
    {
      "cell_type": "markdown",
      "source": [
        "Sum of cube of n natural numbers"
      ],
      "metadata": {
        "id": "zxdla7fG6ZKW"
      }
    },
    {
      "cell_type": "code",
      "execution_count": 5,
      "metadata": {
        "colab": {
          "base_uri": "https://localhost:8080/"
        },
        "id": "PbosxYEr6Wqs",
        "outputId": "09cdad99-2ab1-4c35-b270-43d5d97b5f9f"
      },
      "outputs": [
        {
          "output_type": "stream",
          "name": "stdout",
          "text": [
            "Enter a natural number 5\n",
            "The sum of cube of  5 natural number is  225\n"
          ]
        }
      ],
      "source": [
        "m = input('Enter a natural number ')\n",
        "sum = 0\n",
        "try:\n",
        "  n = int(m)\n",
        "  if n<0:\n",
        "    print('Enter a valid natural number')\n",
        "  else:\n",
        "   for i in range(1,n+1):\n",
        "    sum = sum + i**3\n",
        "   print('The sum of cube of ' ,n,'natural number is ' ,sum)\n",
        "except:\n",
        "  print('Enter a valid natural number')\n"
      ]
    },
    {
      "cell_type": "code",
      "source": [],
      "metadata": {
        "id": "de7rmZYp7gxj"
      },
      "execution_count": null,
      "outputs": []
    }
  ]
}