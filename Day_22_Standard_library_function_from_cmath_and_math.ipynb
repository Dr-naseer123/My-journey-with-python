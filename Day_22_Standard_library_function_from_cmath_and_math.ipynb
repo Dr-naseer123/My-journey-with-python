{
  "nbformat": 4,
  "nbformat_minor": 0,
  "metadata": {
    "colab": {
      "provenance": []
    },
    "kernelspec": {
      "name": "python3",
      "display_name": "Python 3"
    },
    "language_info": {
      "name": "python"
    }
  },
  "cells": [
    {
      "cell_type": "markdown",
      "source": [
        "# File: math_and_random_module_examples.ipynb\n",
        "# Description: Practice examples using Python's built-in math and random modules\n",
        "# Topics Covered:\n",
        "#   - Square root of any number using cmath module\n",
        "#   - Factorial calculation using math module\n",
        "#   - power, pi, floor, ceil,log, exp using math module\n",
        "#   - Random number generation, randint, etc.\n",
        "# Author: Dr. Naseer Ahmed\n",
        "# Date: 2025-07-06\n"
      ],
      "metadata": {
        "id": "AzeSoBFixtKg"
      }
    },
    {
      "cell_type": "code",
      "execution_count": 32,
      "metadata": {
        "colab": {
          "base_uri": "https://localhost:8080/"
        },
        "id": "OXEj20mqxi5u",
        "outputId": "908b6b5d-51db-480f-c127-bb533b34af3c"
      },
      "outputs": [
        {
          "output_type": "execute_result",
          "data": {
            "text/plain": [
              "1.7320508075688772j"
            ]
          },
          "metadata": {},
          "execution_count": 32
        }
      ],
      "source": [
        "import cmath as n\n",
        "n.sqrt(-3)  # Using the sqrt() function from the cmath module to calculate square root of any real number"
      ]
    },
    {
      "cell_type": "code",
      "source": [
        "import math as m\n",
        "a = m.pow(2,3)   # Using the pow() function from the math module to calculate exponential of any real number\n",
        "\n",
        "print(a)"
      ],
      "metadata": {
        "colab": {
          "base_uri": "https://localhost:8080/"
        },
        "id": "y_6Qsv1px7X5",
        "outputId": "2e266ae3-55f0-4991-b837-75d34217f4c7"
      },
      "execution_count": 33,
      "outputs": [
        {
          "output_type": "stream",
          "name": "stdout",
          "text": [
            "8.0\n"
          ]
        }
      ]
    },
    {
      "cell_type": "code",
      "source": [
        "b = m.floor(2.3)  # Using the floor() function from the math module to find the greatest interger of the given number\n",
        "print(b)"
      ],
      "metadata": {
        "colab": {
          "base_uri": "https://localhost:8080/"
        },
        "id": "PLNTLdgPyPtt",
        "outputId": "13900988-8568-4929-fb77-48d182f79a24"
      },
      "execution_count": 34,
      "outputs": [
        {
          "output_type": "stream",
          "name": "stdout",
          "text": [
            "2\n"
          ]
        }
      ]
    },
    {
      "cell_type": "code",
      "source": [
        "c = m.ceil(2.3) # Using the ceil() function from the math module to find the least interger of the given number\n",
        "print(c)"
      ],
      "metadata": {
        "colab": {
          "base_uri": "https://localhost:8080/"
        },
        "id": "KFJY5cIYyXPy",
        "outputId": "d056165b-90d6-4249-b962-896abacf6a03"
      },
      "execution_count": 35,
      "outputs": [
        {
          "output_type": "stream",
          "name": "stdout",
          "text": [
            "3\n"
          ]
        }
      ]
    },
    {
      "cell_type": "code",
      "source": [
        "d = m.log(3) # Using the logarithmic function log(a) from the math module to find the logarithm of a given positive number 'a' with base 'e'\n",
        "print(d)"
      ],
      "metadata": {
        "colab": {
          "base_uri": "https://localhost:8080/"
        },
        "id": "qItXH1ppybl-",
        "outputId": "961665e4-bb82-4a7c-8e77-3e692b678b8e"
      },
      "execution_count": 36,
      "outputs": [
        {
          "output_type": "stream",
          "name": "stdout",
          "text": [
            "1.0986122886681098\n"
          ]
        }
      ]
    },
    {
      "cell_type": "code",
      "source": [
        "e = m.log(5,3) # Using the logarithmic function log(a,b) function from the math module to find the logarithm of a given positive number 'a' with desired base 'b'\n",
        "print(e)"
      ],
      "metadata": {
        "colab": {
          "base_uri": "https://localhost:8080/"
        },
        "id": "yNe3G8AsyoMh",
        "outputId": "bef378f9-3595-4581-9b12-0c8804c82a25"
      },
      "execution_count": 37,
      "outputs": [
        {
          "output_type": "stream",
          "name": "stdout",
          "text": [
            "1.4649735207179269\n"
          ]
        }
      ]
    },
    {
      "cell_type": "code",
      "source": [
        "f = m.log(3,5)\n",
        "print(f)"
      ],
      "metadata": {
        "colab": {
          "base_uri": "https://localhost:8080/"
        },
        "id": "4zAwY2UqywoL",
        "outputId": "ce0662b9-b20a-4be5-8289-af6cab931d64"
      },
      "execution_count": 38,
      "outputs": [
        {
          "output_type": "stream",
          "name": "stdout",
          "text": [
            "0.6826061944859854\n"
          ]
        }
      ]
    },
    {
      "cell_type": "code",
      "source": [
        "g = m.log(5,1/2)\n",
        "print(g)"
      ],
      "metadata": {
        "colab": {
          "base_uri": "https://localhost:8080/"
        },
        "id": "iERrElQey717",
        "outputId": "f5688db0-9845-4a30-ded6-2b03248226ae"
      },
      "execution_count": 39,
      "outputs": [
        {
          "output_type": "stream",
          "name": "stdout",
          "text": [
            "-2.321928094887362\n"
          ]
        }
      ]
    },
    {
      "cell_type": "code",
      "source": [
        "h = m.exp(3)  # Using exponential function exp(a) function from the math module to find the exponential of a given number 'a'\n",
        "print(h)"
      ],
      "metadata": {
        "colab": {
          "base_uri": "https://localhost:8080/"
        },
        "id": "QwL6QVv5zD4n",
        "outputId": "d2c61c4e-ffa7-4fcc-bfc9-e01d1925d1b3"
      },
      "execution_count": 41,
      "outputs": [
        {
          "output_type": "stream",
          "name": "stdout",
          "text": [
            "20.085536923187668\n"
          ]
        }
      ]
    },
    {
      "cell_type": "code",
      "source": [
        "i = m.factorial(5)  # Using the logarithmic function log(a,b) function from the math module to find the logarithm of a given positive number 'a' with desired base 'b'\n",
        "print(i)"
      ],
      "metadata": {
        "colab": {
          "base_uri": "https://localhost:8080/"
        },
        "id": "Sfpa-zXHzKIi",
        "outputId": "ad3695cf-47ec-48bd-ca6f-99a88710bea4"
      },
      "execution_count": 42,
      "outputs": [
        {
          "output_type": "stream",
          "name": "stdout",
          "text": [
            "120\n"
          ]
        }
      ]
    },
    {
      "cell_type": "code",
      "source": [
        "import random\n",
        "random.random()"
      ],
      "metadata": {
        "colab": {
          "base_uri": "https://localhost:8080/"
        },
        "id": "O4eAVBtazcCh",
        "outputId": "76f4b4e0-932c-4a17-a65d-6a2c15b3bd29"
      },
      "execution_count": 43,
      "outputs": [
        {
          "output_type": "execute_result",
          "data": {
            "text/plain": [
              "0.3783366423519795"
            ]
          },
          "metadata": {},
          "execution_count": 43
        }
      ]
    },
    {
      "cell_type": "code",
      "source": [
        "random.randint(2,7)"
      ],
      "metadata": {
        "colab": {
          "base_uri": "https://localhost:8080/"
        },
        "id": "KoM3aw5m1HYw",
        "outputId": "5080de4e-3811-41a6-c59a-b85c39c13144"
      },
      "execution_count": 44,
      "outputs": [
        {
          "output_type": "execute_result",
          "data": {
            "text/plain": [
              "4"
            ]
          },
          "metadata": {},
          "execution_count": 44
        }
      ]
    },
    {
      "cell_type": "code",
      "source": [],
      "metadata": {
        "id": "heZX6n6I1WNd"
      },
      "execution_count": null,
      "outputs": []
    }
  ]
}