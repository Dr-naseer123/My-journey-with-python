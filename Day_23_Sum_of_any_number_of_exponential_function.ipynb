{
  "nbformat": 4,
  "nbformat_minor": 0,
  "metadata": {
    "colab": {
      "provenance": []
    },
    "kernelspec": {
      "name": "python3",
      "display_name": "Python 3"
    },
    "language_info": {
      "name": "python"
    }
  },
  "cells": [
    {
      "cell_type": "markdown",
      "source": [
        "Code to find the sum of finite number of any exponential function"
      ],
      "metadata": {
        "id": "vUDQE8TKhbOG"
      }
    },
    {
      "cell_type": "code",
      "execution_count": 4,
      "metadata": {
        "id": "_s2KFxNUbQcB",
        "colab": {
          "base_uri": "https://localhost:8080/"
        },
        "outputId": "05f41185-05bd-4276-a350-72fd837d87c7"
      },
      "outputs": [
        {
          "output_type": "stream",
          "name": "stdout",
          "text": [
            "Enter the base 1\n",
            "Enter the power 3\n",
            "Do you want to stop no\n",
            "Enter the base 3\n",
            "Enter the power 4\n",
            "Do you want to stop yes\n",
            " sum of the  2 terms are  82.0\n"
          ]
        }
      ],
      "source": [
        "# Summing the exponential a^b\n",
        "sum = 0  # initializing the sum to zero\n",
        "count =0 # initializing the count to be zero\n",
        "while True:\n",
        "  b = input('Enter the base ') # prompting the user to enter the base\n",
        "  a = input('Enter the power ') # prompting the user to enter the power\n",
        "  b = float(b)  # converting the string to float\n",
        "  a = float(a)\n",
        "  sum = sum + b**a  # to find the sum the given exponential terms\n",
        "  count = count + 1  # counting the number of terms summed\n",
        "  c = input('Do you want to stop ') # asking user to stop or continue\n",
        "  if c== 'yes':\n",
        "    break\n",
        "  else:\n",
        "   continue\n",
        "\n",
        "\n",
        "print(' sum of the ', count, 'terms are ' , sum)  # displaying the result"
      ]
    },
    {
      "cell_type": "code",
      "source": [],
      "metadata": {
        "id": "l586hclgcIc6"
      },
      "execution_count": null,
      "outputs": []
    }
  ]
}