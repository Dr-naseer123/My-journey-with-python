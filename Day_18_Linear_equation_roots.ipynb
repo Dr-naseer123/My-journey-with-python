{
  "nbformat": 4,
  "nbformat_minor": 0,
  "metadata": {
    "colab": {
      "provenance": []
    },
    "kernelspec": {
      "name": "python3",
      "display_name": "Python 3"
    },
    "language_info": {
      "name": "python"
    }
  },
  "cells": [
    {
      "cell_type": "markdown",
      "source": [
        "# Code to find a root of linear euation"
      ],
      "metadata": {
        "id": "sordfbucDDki"
      }
    },
    {
      "cell_type": "markdown",
      "source": [
        "**Code to find a root of linear equation**"
      ],
      "metadata": {
        "id": "JzDQMUA2GnCj"
      }
    },
    {
      "cell_type": "code",
      "execution_count": 16,
      "metadata": {
        "colab": {
          "base_uri": "https://localhost:8080/"
        },
        "id": "mZ75nHPVDBO3",
        "outputId": "c16e9c61-da2a-485d-e411-1b69b2aecc74"
      },
      "outputs": [
        {
          "output_type": "stream",
          "name": "stdout",
          "text": [
            "We are intending to find a root of a linear equation of the form ax+b\n",
            "Enter a coefficient of x i.e., a \n",
            "3\n",
            "Enter constant term i.e., b \n",
            "6\n",
            "The root of the given linear equation is  3.0 x + 6.0  = 0 is -2.0\n"
          ]
        }
      ],
      "source": [
        "print('We are intending to find a root of a linear equation of the form ax+b')\n",
        "a = float(input('Enter a coefficient of x i.e., a \\n')) # prompting user to enter a coefficient of x\n",
        "b = float(input('Enter constant term i.e., b \\n'))  # prompting user to enter a constant\n",
        "def linear_eq(m,n):  # defining function to find a root\n",
        "  return -n/m  # returning a root\n",
        "\n",
        "\n",
        "if a==0:  # checking the validity of the entry of 'a' to be linear equation\n",
        "    print(\"The enter value of 'a' doesn't give a linear equation. \\n Kindly, enter non zero value of 'a' \")\n",
        "else:\n",
        "    x = linear_eq(a,b)  # calling function\n",
        "    print('The root of the given linear equation is ',a ,'x +',b , ' = 0 is',x )  # displaying the root"
      ]
    },
    {
      "cell_type": "code",
      "source": [
        "24"
      ],
      "metadata": {
        "id": "INojvNimFAPP"
      },
      "execution_count": null,
      "outputs": []
    }
  ]
}