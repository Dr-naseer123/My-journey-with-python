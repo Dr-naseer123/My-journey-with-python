{
  "nbformat": 4,
  "nbformat_minor": 0,
  "metadata": {
    "colab": {
      "provenance": []
    },
    "kernelspec": {
      "name": "python3",
      "display_name": "Python 3"
    },
    "language_info": {
      "name": "python"
    }
  },
  "cells": [
    {
      "cell_type": "markdown",
      "source": [
        "Factorial of a given number"
      ],
      "metadata": {
        "id": "IZsI0GWLsVuJ"
      }
    },
    {
      "cell_type": "code",
      "execution_count": 14,
      "metadata": {
        "colab": {
          "base_uri": "https://localhost:8080/"
        },
        "id": "pLuO9xlEsRQk",
        "outputId": "3a97c789-98df-4224-a85c-eadeaa6309af"
      },
      "outputs": [
        {
          "output_type": "stream",
          "name": "stdout",
          "text": [
            "Enter a number 6\n",
            "The factorial of a given number 6 is  720\n"
          ]
        }
      ],
      "source": [
        "m = input('Enter a number ')  # prompting the user to input a number\n",
        "prod = 1  # initializing prod to compute factoial\n",
        "try:  # checking the exception case\n",
        "  n = int(m)   # converting the string to integer\n",
        "  if n<0:  # checking for invalid entry\n",
        "    print('input a valid natural number')\n",
        "  elif n==0:  # commenting factorial of zero is 1\n",
        "    print('The factorial of the entered number', n, 'is ',1)\n",
        "  else:\n",
        "   for i in range(1,n+1):  # computing the factorial of a number\n",
        "    prod*=i\n",
        "   print('The factorial of a given number', n, 'is ', prod)  # displaying the result\n",
        "except:\n",
        "  print('input a valid natural number')"
      ]
    },
    {
      "cell_type": "code",
      "source": [],
      "metadata": {
        "id": "eGtsW4QIt4BG"
      },
      "execution_count": null,
      "outputs": []
    }
  ]
}