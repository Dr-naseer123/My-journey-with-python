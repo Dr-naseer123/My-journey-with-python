{
  "nbformat": 4,
  "nbformat_minor": 0,
  "metadata": {
    "colab": {
      "provenance": []
    },
    "kernelspec": {
      "name": "python3",
      "display_name": "Python 3"
    },
    "language_info": {
      "name": "python"
    }
  },
  "cells": [
    {
      "cell_type": "code",
      "execution_count": 17,
      "metadata": {
        "colab": {
          "base_uri": "https://localhost:8080/"
        },
        "id": "r-xrMWKMBFik",
        "outputId": "e26be58d-90dc-4e5b-e230-9dde12fb1ca2"
      },
      "outputs": [
        {
          "output_type": "stream",
          "name": "stdout",
          "text": [
            "We are computing roots of a quadratic equation of the form ax^2+bx+c=0\n",
            " enter coefficient of x^2 \n",
            "3\n",
            " enter coefficient of x \n",
            "5\n",
            " enter constant \n",
            "1\n",
            "-4.399074787422668 -5.600925212577332\n"
          ]
        }
      ],
      "source": [
        "# Code to find roots of a quadratic equation\n",
        "\n",
        "from math import sqrt # importing math function fo find square root\n",
        "print('We are computing roots of a quadratic equation of the form ax^2+bx+c=0')\n",
        "a = float(input(' enter coefficient of x^2 \\n'))  # prompting user to input a,b and c\n",
        "b = float(input(' enter coefficient of x \\n'))\n",
        "c = float(input(' enter constant \\n'))\n",
        "\n",
        "def quad (m,n,p): # defining the function\n",
        "  if m ==0: # checking if linear equation\n",
        "    print('this is not a quadratic equation but a linear equation ')\n",
        "    x= -p/n # finding linear equation\n",
        "    print(x) # displaying linear root\n",
        "  else:\n",
        "    d = n**2 - 4*m*p  # finding the discriminant\n",
        "    if d<0: # checking for imaginary roots\n",
        "      print('this equation has no real roots')\n",
        "    else:\n",
        "      x = -n+math.sqrt(d)/(2*m)  # computing real roots\n",
        "      y = -n-math.sqrt(d)/(2*m)\n",
        "      print(x,y) # displaying real roots\n",
        "quad(a,b,c)  # calling the function\n"
      ]
    },
    {
      "cell_type": "code",
      "source": [
        "3"
      ],
      "metadata": {
        "id": "s-wQl9dxCyur"
      },
      "execution_count": null,
      "outputs": []
    }
  ]
}