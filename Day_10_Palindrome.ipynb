{
  "nbformat": 4,
  "nbformat_minor": 0,
  "metadata": {
    "colab": {
      "provenance": []
    },
    "kernelspec": {
      "name": "python3",
      "display_name": "Python 3"
    },
    "language_info": {
      "name": "python"
    }
  },
  "cells": [
    {
      "cell_type": "markdown",
      "source": [
        "**Code to check a given string is palindrome or not**"
      ],
      "metadata": {
        "id": "pHjmAeBLg1Nz"
      }
    },
    {
      "cell_type": "code",
      "execution_count": 6,
      "metadata": {
        "colab": {
          "base_uri": "https://localhost:8080/"
        },
        "id": "KuV1RPUoa77k",
        "outputId": "9851cf91-5943-4349-a42e-7a60dd43db3d"
      },
      "outputs": [
        {
          "output_type": "stream",
          "name": "stdout",
          "text": [
            "Input a string maam\n",
            "The given string is  maam\n",
            "The string in reverse order is  maam\n",
            "The string is a palindrome\n"
          ]
        }
      ],
      "source": [
        "string = input('Input a string ')  # getting a string from the user\n",
        "string1 = string[::-1]  # storing thr reverse string in string1\n",
        "print('The given string is ', string)\n",
        "print('The string in reverse order is ', string1)\n",
        "if string == string1:  # checking palindrome or not\n",
        "    print('The string is a palindrome')\n",
        "else:\n",
        "    print('The string is not a palindrome')\n",
        "\n",
        "\n",
        "\n"
      ]
    },
    {
      "cell_type": "code",
      "source": [],
      "metadata": {
        "id": "OPI9PQSkbb-3"
      },
      "execution_count": null,
      "outputs": []
    }
  ]
}