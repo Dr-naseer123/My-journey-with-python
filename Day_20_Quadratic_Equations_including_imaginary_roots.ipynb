{
  "nbformat": 4,
  "nbformat_minor": 0,
  "metadata": {
    "colab": {
      "provenance": []
    },
    "kernelspec": {
      "name": "python3",
      "display_name": "Python 3"
    },
    "language_info": {
      "name": "python"
    }
  },
  "cells": [
    {
      "cell_type": "markdown",
      "source": [
        "Day_20_Quadratic Equations including imaginary roots."
      ],
      "metadata": {
        "id": "jPL1n5cHAGn4"
      }
    },
    {
      "cell_type": "code",
      "execution_count": null,
      "metadata": {
        "id": "VStfGfLD72dm",
        "colab": {
          "base_uri": "https://localhost:8080/"
        },
        "outputId": "bd3bf2b1-fee3-441c-e3f2-f139eea6c06e"
      },
      "outputs": [
        {
          "output_type": "stream",
          "name": "stdout",
          "text": [
            "We are computing roots of a quadratic equation of the form ax^2+bx+c = 0\n",
            " enter coefficient of x^2 \n",
            "0\n",
            " enter coefficient of x \n",
            "3\n",
            " enter constant \n",
            "2\n",
            "This is not a quadratic equation but a linear equation \n",
            "The root of the given linear equation  3.0 x+ 2.0  =0 is \n",
            "-0.6666666666666666\n"
          ]
        }
      ],
      "source": [
        "# Code to find roots of a quadratic equation including complex roots\n",
        "\n",
        "import cmath  # cmath stands for complex math — it is a built-in Python module used for doing mathematical operations with\n",
        "#complex numbers (i.e., numbers with real and imaginary parts like 3+4𝑖)\n",
        "\n",
        "print('We are computing roots of a quadratic equation of the form ax^2+bx+c = 0')\n",
        "a = float(input(' enter coefficient of x^2 \\n'))  # prompting user to input a,b and c\n",
        "b = float(input(' enter coefficient of x \\n'))\n",
        "c = float(input(' enter constant \\n'))\n",
        "\n",
        "def quad (m,n,p): # defining the function\n",
        "  if m ==0: # checking if linear equation\n",
        "    print('This is not a quadratic equation but a linear equation ')\n",
        "    x= -p/n # finding linear equation\n",
        "    print('The root of the given linear equation ',b,'x+',c, ' =0 is ')\n",
        "    print(x) # displaying linear root\n",
        "  else:\n",
        "    d = n**2 - 4*m*p  # finding the discriminant\n",
        "    x = -n+cmath.sqrt(d)/(2*m)  # computing complex roots\n",
        "    y = -n-cmath.sqrt(d)/(2*m)\n",
        "    print('The roots of the given quadratic equation ',a,'x^2+',b,'x+',c,'= 0 ' 'are :', x,y) # displaying the roots\n",
        "quad(a,b,c)  # calling the function\n"
      ]
    },
    {
      "cell_type": "code",
      "source": [
        "21\n",
        "2"
      ],
      "metadata": {
        "id": "sHAFB7Dq_cd4"
      },
      "execution_count": null,
      "outputs": []
    }
  ]
}