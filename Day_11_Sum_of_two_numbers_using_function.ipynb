{
  "nbformat": 4,
  "nbformat_minor": 0,
  "metadata": {
    "colab": {
      "provenance": []
    },
    "kernelspec": {
      "name": "python3",
      "display_name": "Python 3"
    },
    "language_info": {
      "name": "python"
    }
  },
  "cells": [
    {
      "cell_type": "markdown",
      "source": [
        "# Code to add two numbers by using function"
      ],
      "metadata": {
        "id": "bTVmyTdtoDJr"
      }
    },
    {
      "cell_type": "code",
      "execution_count": 3,
      "metadata": {
        "colab": {
          "base_uri": "https://localhost:8080/"
        },
        "id": "q2huYLIBmpz-",
        "outputId": "7f8689da-5d26-4de0-8baf-d90c6384f691"
      },
      "outputs": [
        {
          "output_type": "stream",
          "name": "stdout",
          "text": [
            "Enter first number: 5 \n",
            "Enter second number: 4\n",
            "The addition of the numbers  5.0 and 4.0  is 9.0\n"
          ]
        }
      ],
      "source": [
        "def add(x,y): # defining a function\n",
        "  return x+y  # returning sum of two numbers\n",
        "\n",
        "a1 = input(\"Enter first number: \")  # prompting the user to input first number\n",
        "b1 = input(\"Enter second number: \")  # prompting the user to input second number\n",
        "a = float(a1)  # converting string to float\n",
        "b = float(b1)   # converting string to float\n",
        "\n",
        "c = add(a,b)  # calling a function\n",
        "print('The addition of the numbers ', a, 'and', b , ' is' , c)"
      ]
    },
    {
      "cell_type": "markdown",
      "source": [],
      "metadata": {
        "id": "1fLIOtR5npc3"
      }
    }
  ]
}