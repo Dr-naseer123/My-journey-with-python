{
  "nbformat": 4,
  "nbformat_minor": 0,
  "metadata": {
    "colab": {
      "provenance": []
    },
    "kernelspec": {
      "name": "python3",
      "display_name": "Python 3"
    },
    "language_info": {
      "name": "python"
    }
  },
  "cells": [
    {
      "cell_type": "markdown",
      "source": [
        "Code to find the sum of square of n natural number"
      ],
      "metadata": {
        "id": "fsw4W8iJenU8"
      }
    },
    {
      "cell_type": "code",
      "execution_count": 9,
      "metadata": {
        "colab": {
          "base_uri": "https://localhost:8080/"
        },
        "id": "03gpY78dRBt-",
        "outputId": "ac1601c1-98c9-4fde-e136-65be1a55c5c0"
      },
      "outputs": [
        {
          "output_type": "stream",
          "name": "stdout",
          "text": [
            "Enter a natural number 3\n",
            " The sum of square of  3 natural number is  14\n"
          ]
        }
      ],
      "source": [
        "sum2 = 0   # initializing sum2 to zero\n",
        "a = input('Enter a natural number ')  # prompting user to input the natural number n\n",
        "try:  # considering the case where user might invalid input\n",
        "  n = int(a) # converting string to integer\n",
        "  if n>0:  # checking whether the input is natural number\n",
        "   for i in range(1,n+1):\n",
        "    sum2 = sum2+i**2  # finding sum of square os n natural number\n",
        "   print(' The sum of square of ',n, 'natural number is ', sum2)  # printing the output\n",
        "  else:\n",
        "   print('Entar a natural number in digits') # asking the user to input valid input\n",
        "except:\n",
        "  print('Entar a natural number in digits') # asking the user to input valid input\n"
      ]
    },
    {
      "cell_type": "code",
      "source": [],
      "metadata": {
        "id": "7FqKTeZMeCc7"
      },
      "execution_count": null,
      "outputs": []
    }
  ]
}
