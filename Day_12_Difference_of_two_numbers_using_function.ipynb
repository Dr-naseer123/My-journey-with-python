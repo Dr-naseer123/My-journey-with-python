{
  "nbformat": 4,
  "nbformat_minor": 0,
  "metadata": {
    "colab": {
      "provenance": []
    },
    "kernelspec": {
      "name": "python3",
      "display_name": "Python 3"
    },
    "language_info": {
      "name": "python"
    }
  },
  "cells": [
    {
      "cell_type": "markdown",
      "source": [
        "# Code to subtract two numbers by using function"
      ],
      "metadata": {
        "id": "_aOyemqsto3I"
      }
    },
    {
      "cell_type": "code",
      "execution_count": 3,
      "metadata": {
        "colab": {
          "base_uri": "https://localhost:8080/"
        },
        "id": "iiAsflh6tniJ",
        "outputId": "a03f8e02-7478-4eda-a04f-19790f1c9e43"
      },
      "outputs": [
        {
          "output_type": "stream",
          "name": "stdout",
          "text": [
            "Enter first number: 9\n",
            "Enter second number: -1\n",
            "The difference of the numbers  9.0 and -1.0  is 10.0\n"
          ]
        }
      ],
      "source": [
        "def add(x,y): # defining a function\n",
        "  return x-y  # returning difference of two numbers\n",
        "\n",
        "a1 = input(\"Enter first number: \")  # prompting the user to input first number\n",
        "b1 = input(\"Enter second number: \")  # prompting the user to input second number\n",
        "a = float(a1)  # converting string to float\n",
        "b = float(b1)   # converting string to float\n",
        "\n",
        "c = add(a,b)  # calling a function\n",
        "print('The difference of the numbers ', a, 'and', b , ' is' , c)"
      ]
    },
    {
      "cell_type": "code",
      "source": [],
      "metadata": {
        "id": "QlVzFDVzt3DB"
      },
      "execution_count": 2,
      "outputs": []
    }
  ]
}