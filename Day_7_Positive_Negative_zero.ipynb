{
  "nbformat": 4,
  "nbformat_minor": 0,
  "metadata": {
    "colab": {
      "provenance": []
    },
    "kernelspec": {
      "name": "python3",
      "display_name": "Python 3"
    },
    "language_info": {
      "name": "python"
    }
  },
  "cells": [
    {
      "cell_type": "markdown",
      "source": [
        "Code to identify the given number positive, negative or zero"
      ],
      "metadata": {
        "id": "9qf3dz8acmlM"
      }
    },
    {
      "cell_type": "code",
      "execution_count": 8,
      "metadata": {
        "colab": {
          "base_uri": "https://localhost:8080/"
        },
        "id": "i4Al3UJ5caVu",
        "outputId": "27e35c7a-c8b3-4103-a7bc-58c7d09cfe84"
      },
      "outputs": [
        {
          "output_type": "stream",
          "name": "stdout",
          "text": [
            "Enter any number in digit 9.8\n",
            "The number is positive\n"
          ]
        }
      ],
      "source": [
        "n = input('Enter any number in digit ')  # prompting the user to input any number\n",
        "try:  # checking the exception case\n",
        "  m = float(n)  # converting string to float\n",
        "  if m > 0:  # checking if the entered number is positive\n",
        "    print('The number is positive')\n",
        "  elif m < 0:   # checking if the entered number is negative\n",
        "    print('The number is negative')\n",
        "  else:  # the given numbwr is zero\n",
        "    print('The number is zero')\n",
        "except:\n",
        "  print('Enter a number in digit form')"
      ]
    },
    {
      "cell_type": "code",
      "source": [],
      "metadata": {
        "id": "X3xY6dqbdEjP"
      },
      "execution_count": null,
      "outputs": []
    }
  ]
}