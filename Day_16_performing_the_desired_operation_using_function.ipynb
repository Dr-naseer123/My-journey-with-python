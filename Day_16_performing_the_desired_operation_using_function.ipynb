{
  "nbformat": 4,
  "nbformat_minor": 0,
  "metadata": {
    "colab": {
      "provenance": []
    },
    "kernelspec": {
      "name": "python3",
      "display_name": "Python 3"
    },
    "language_info": {
      "name": "python"
    }
  },
  "cells": [
    {
      "cell_type": "code",
      "execution_count": 6,
      "metadata": {
        "colab": {
          "base_uri": "https://localhost:8080/"
        },
        "id": "T2nm1rsvLBGo",
        "outputId": "32fec475-5260-4ec3-f73b-d187a371e1ae"
      },
      "outputs": [
        {
          "output_type": "stream",
          "name": "stdout",
          "text": [
            "Enter first number 4\n",
            "Enter second number0\n",
            "Which operation to be performed sum (+), differnce (-), product (*) or division (/)? +\n",
            "4.0\n"
          ]
        }
      ],
      "source": [
        "m = float(input('Enter first number '))  # taking the input and converting to float\n",
        "n = float(input('Enter second number'))\n",
        "p = input('Which operation to be performed sum (+), differnce (-), product (*) or division (/)? ')  # prompting user to perform the desired operation\n",
        "def operations(m,n,p):  # defining the operation\n",
        "  if p == '+':  # for addition\n",
        "    print(m+n)\n",
        "  elif p == '-':  # for difference\n",
        "    print(m-n)\n",
        "  elif p == '*':  # for product\n",
        "    print(m*n)\n",
        "  elif n!=0 and p == '/':  # for division\n",
        "    print(m/n)\n",
        "  elif n==0 and p == '/': # if divisor is zero\n",
        "    print('Cannot divide by zero')\n",
        "  else:  # for any undesirable input from the user\n",
        "    print('Invalid operation')\n",
        "\n",
        "operations(m,n,p)  # calling the function\n",
        "\n"
      ]
    },
    {
      "cell_type": "code",
      "source": [],
      "metadata": {
        "id": "JY_mKQLlMtyz"
      },
      "execution_count": null,
      "outputs": []
    }
  ]
}
