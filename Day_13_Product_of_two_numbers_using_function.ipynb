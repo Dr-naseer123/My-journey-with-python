{
  "nbformat": 4,
  "nbformat_minor": 0,
  "metadata": {
    "colab": {
      "provenance": []
    },
    "kernelspec": {
      "name": "python3",
      "display_name": "Python 3"
    },
    "language_info": {
      "name": "python"
    }
  },
  "cells": [
    {
      "cell_type": "code",
      "execution_count": 1,
      "metadata": {
        "id": "Fkh2OXtHvAoB",
        "colab": {
          "base_uri": "https://localhost:8080/"
        },
        "outputId": "e91c6bd9-4068-43f6-8422-f8142cff3c33"
      },
      "outputs": [
        {
          "output_type": "stream",
          "name": "stdout",
          "text": [
            "Enter first number: 3\n",
            "Enter second number: -5\n",
            "The product of the numbers  3.0 and -5.0  is -15.0\n"
          ]
        }
      ],
      "source": [
        "def add(x,y): # defining a function\n",
        "  return x*y  # returning product of two numbers\n",
        "\n",
        "a1 = input(\"Enter first number: \")  # prompting the user to input first number\n",
        "b1 = input(\"Enter second number: \")  # prompting the user to input second number\n",
        "a = float(a1)  # converting string to float\n",
        "b = float(b1)   # converting string to float\n",
        "\n",
        "c = add(a,b)  # calling a function\n",
        "print('The product of the numbers ', a, 'and', b , ' is' , c)"
      ]
    },
    {
      "cell_type": "code",
      "source": [],
      "metadata": {
        "id": "8Zn4tpW0vSDI"
      },
      "execution_count": null,
      "outputs": []
    }
  ]
}