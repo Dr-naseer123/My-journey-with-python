{
  "nbformat": 4,
  "nbformat_minor": 0,
  "metadata": {
    "colab": {
      "provenance": []
    },
    "kernelspec": {
      "name": "python3",
      "display_name": "Python 3"
    },
    "language_info": {
      "name": "python"
    }
  },
  "cells": [
    {
      "cell_type": "markdown",
      "source": [],
      "metadata": {
        "id": "cuGM4TpmJR9J"
      }
    },
    {
      "cell_type": "code",
      "execution_count": 6,
      "metadata": {
        "colab": {
          "base_uri": "https://localhost:8080/"
        },
        "id": "Rfan3bt3JQQC",
        "outputId": "34595c9c-27f9-4b8d-c8eb-08f06a72bba6"
      },
      "outputs": [
        {
          "output_type": "stream",
          "name": "stdout",
          "text": [
            "Enter a natural number 22\n",
            "The first 22 odd natural number are \n",
            "1\n",
            "3\n",
            "5\n",
            "7\n",
            "9\n",
            "11\n",
            "13\n",
            "15\n",
            "17\n",
            "19\n",
            "21\n"
          ]
        }
      ],
      "source": [
        "m = input('Enter a natural number ')  # input from the user\n",
        "try:  # encountering the exception case\n",
        "  n = int(m)  # converting string to integer\n",
        "  if n>0:  # checking whether the input is natural number\n",
        "    print('The first', n, 'odd natural number are ')\n",
        "    for i in range(1,n+1):\n",
        "      if i%2!=0:  # checking the odd number condition\n",
        "        print(i)  # printing the odd numbers\n",
        "\n",
        "  else:\n",
        "    print('Enter a natural number')\n",
        "except:\n",
        "  print('Enter a natural number')\n",
        "\n"
      ]
    },
    {
      "cell_type": "code",
      "source": [],
      "metadata": {
        "id": "uB-2qKrVJ-bP"
      },
      "execution_count": null,
      "outputs": []
    }
  ]
}