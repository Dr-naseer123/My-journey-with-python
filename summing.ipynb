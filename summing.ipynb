{
  "nbformat": 4,
  "nbformat_minor": 0,
  "metadata": {
    "colab": {
      "provenance": []
    },
    "kernelspec": {
      "name": "python3",
      "display_name": "Python 3"
    },
    "language_info": {
      "name": "python"
    }
  },
  "cells": [
    {
      "cell_type": "markdown",
      "source": [
        "***Code to find sum of n natural numbers***"
      ],
      "metadata": {
        "id": "_Utp4ApEZh7m"
      }
    },
    {
      "cell_type": "code",
      "execution_count": 11,
      "metadata": {
        "id": "yAhAMdAVV658",
        "colab": {
          "base_uri": "https://localhost:8080/"
        },
        "outputId": "c4178967-8912-458d-f0fd-41d9fb91eb72"
      },
      "outputs": [
        {
          "output_type": "stream",
          "name": "stdout",
          "text": [
            "Enter a natural number 6\n",
            "The sum of  6 natural number is  21\n"
          ]
        }
      ],
      "source": [
        "a = input('Enter a natural number ')  # asking user to input a natural number\n",
        "sum = 0  # initializing sum =0\n",
        "try:   # considering try and except case if user enters string\n",
        "  b = int(a)  # converting the input from string to integer\n",
        "  if b>0:   # checking whether the entered number is natural number\n",
        "   for i in range(1,b+1):   # using range listing out n natural number\n",
        "    sum = sum +i   # finding sum of n natural number\n",
        "   print('The sum of ', a , 'natural number is ', sum) # displaying the result\n",
        "\n",
        "  else:\n",
        "   print(' Enter the natural number')  # id the number is less than zero asking user to input only natural number\n",
        "\n",
        "except:\n",
        "  print(' Enter the natural number in digit')"
      ]
    },
    {
      "cell_type": "code",
      "source": [],
      "metadata": {
        "id": "PsSg8kT7XF5p"
      },
      "execution_count": null,
      "outputs": []
    }
  ]
}