{
  "nbformat": 4,
  "nbformat_minor": 0,
  "metadata": {
    "colab": {
      "provenance": []
    },
    "kernelspec": {
      "name": "python3",
      "display_name": "Python 3"
    },
    "language_info": {
      "name": "python"
    }
  },
  "cells": [
    {
      "cell_type": "markdown",
      "source": [
        "**Code to write multiplication tables prompting user to choose a desire tables as well as multiples**"
      ],
      "metadata": {
        "id": "uBeqgjyb_7xS"
      }
    },
    {
      "cell_type": "code",
      "execution_count": 4,
      "metadata": {
        "colab": {
          "base_uri": "https://localhost:8080/"
        },
        "id": "C_Q4gDGj6YQk",
        "outputId": "0abdc88e-5e7b-4579-bdad-08d7f751468c"
      },
      "outputs": [
        {
          "output_type": "stream",
          "name": "stdout",
          "text": [
            "Ener which tables you want ? \n",
            " 6\n",
            "Enter from which table to start ? \n",
            "-4\n",
            "Enter upto to which multiple you want ? \n",
            "12\n",
            "6 x -4 = -24\n",
            "6 x -3 = -18\n",
            "6 x -2 = -12\n",
            "6 x -1 = -6\n",
            "6 x 0 = 0\n",
            "6 x 1 = 6\n",
            "6 x 2 = 12\n",
            "6 x 3 = 18\n",
            "6 x 4 = 24\n",
            "6 x 5 = 30\n",
            "6 x 6 = 36\n",
            "6 x 7 = 42\n",
            "6 x 8 = 48\n",
            "6 x 9 = 54\n",
            "6 x 10 = 60\n",
            "6 x 11 = 66\n",
            "6 x 12 = 72\n"
          ]
        }
      ],
      "source": [
        "a = int(input('Ener which tables you want ? \\n '))  # asking the user to input which tables and converting string into int\n",
        "b = int(input('Enter from which multiple to start ? \\n')) # asking the user to input from which multiple to start and converting string into int\n",
        "c = int(input('Enter upto to which multiple you want ? \\n')) # asking the user to input upto which multiple it should stop and converting string into int\n",
        "\n",
        "def tables(m,n,p):\n",
        "  for i in range(n,p+1):\n",
        "   print(m, 'x', i, '=', m*i)\n",
        "\n",
        "tables(a,b,c)"
      ]
    },
    {
      "cell_type": "code",
      "source": [],
      "metadata": {
        "id": "_S-krh-B7hnT"
      },
      "execution_count": null,
      "outputs": []
    }
  ]
}