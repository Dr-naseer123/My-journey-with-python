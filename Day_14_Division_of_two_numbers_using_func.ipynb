{
  "nbformat": 4,
  "nbformat_minor": 0,
  "metadata": {
    "colab": {
      "provenance": []
    },
    "kernelspec": {
      "name": "python3",
      "display_name": "Python 3"
    },
    "language_info": {
      "name": "python"
    }
  },
  "cells": [
    {
      "cell_type": "markdown",
      "source": [
        "# Code for division of two numbers"
      ],
      "metadata": {
        "id": "novfAX2m3spe"
      }
    },
    {
      "cell_type": "code",
      "execution_count": 19,
      "metadata": {
        "colab": {
          "base_uri": "https://localhost:8080/"
        },
        "id": "5MabEa-yqcnc",
        "outputId": "8eb04771-de42-4b68-a726-69a06294ca0b"
      },
      "outputs": [
        {
          "output_type": "stream",
          "name": "stdout",
          "text": [
            "Enter first number 9\n",
            "Enter second number 0\n",
            "Divison undefined\n"
          ]
        }
      ],
      "source": [
        "n = float(input('Enter first number '))  # Prompting user to input a number & converting to float\n",
        "m = float(input('Enter second number '))\n",
        "def division(a,b):  # defining a function\n",
        "    c=a/b  # division operation\n",
        "    return c  # returning the value to calling function\n",
        "\n",
        "if m!=0:  # checking divisor is non-zero\n",
        "  d = division(n,m) # calling function\n",
        "  print('The division of ', n, 'by', m, 'is', d) # displaying the result\n",
        "else:\n",
        "  print('Divison undefined')  # if divisor is zero then division undefined\n",
        "\n"
      ]
    },
    {
      "cell_type": "code",
      "source": [],
      "metadata": {
        "id": "pyVbvJTl5B4Q"
      },
      "execution_count": null,
      "outputs": []
    }
  ]
}