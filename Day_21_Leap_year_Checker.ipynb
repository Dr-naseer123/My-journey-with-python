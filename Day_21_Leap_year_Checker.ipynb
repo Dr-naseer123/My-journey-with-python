{
  "nbformat": 4,
  "nbformat_minor": 0,
  "metadata": {
    "colab": {
      "provenance": []
    },
    "kernelspec": {
      "name": "python3",
      "display_name": "Python 3"
    },
    "language_info": {
      "name": "python"
    }
  },
  "cells": [
    {
      "cell_type": "markdown",
      "source": [
        "Code for leap year checker"
      ],
      "metadata": {
        "id": "lxJ0k61roUaT"
      }
    },
    {
      "cell_type": "code",
      "execution_count": 8,
      "metadata": {
        "colab": {
          "base_uri": "https://localhost:8080/"
        },
        "id": "bDn0CspejZbP",
        "outputId": "ad2b5aa6-6812-4f10-eb3a-723e9382f9ed"
      },
      "outputs": [
        {
          "output_type": "stream",
          "name": "stdout",
          "text": [
            "Enter the number of days of the year \n",
            "366\n",
            "The entered number of days is a leap year\n"
          ]
        }
      ],
      "source": [
        "b = (input('Enter the number of days of the year \\n'))  # take the number of days input from the user\n",
        "try:\n",
        "  a = int(b)  # converting string to integer\n",
        "  if a == 366:  # checking leap year\n",
        "    print('The entered number of days is a leap year')\n",
        "  elif a == 365:\n",
        "    print('The entered number of days is not a leap year')\n",
        "  else:  # asking to enter the days euther 365 or 366\n",
        "    print('Enter either 365 or 366, as in a year we have either 365 or 366 days ')\n",
        "except:\n",
        "  print('Enter a valid number of days in in a year')\n"
      ]
    },
    {
      "cell_type": "code",
      "source": [],
      "metadata": {
        "id": "ae_cJJmsraij"
      },
      "execution_count": null,
      "outputs": []
    }
  ]
}